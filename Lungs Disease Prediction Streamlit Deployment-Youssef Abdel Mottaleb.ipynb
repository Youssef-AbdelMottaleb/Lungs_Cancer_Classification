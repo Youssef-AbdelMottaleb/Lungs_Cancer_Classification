{
 "cells": [
  {
   "cell_type": "code",
   "execution_count": null,
   "id": "e408128c",
   "metadata": {},
   "outputs": [
    {
     "name": "stdout",
     "output_type": "stream",
     "text": [
      " * Serving Flask app \"__main__\" (lazy loading)\n",
      " * Environment: production\n",
      "\u001b[31m   WARNING: This is a development server. Do not use it in a production deployment.\u001b[0m\n",
      "\u001b[2m   Use a production WSGI server instead.\u001b[0m\n",
      " * Debug mode: off\n"
     ]
    },
    {
     "name": "stderr",
     "output_type": "stream",
     "text": [
      " * Running on http://127.0.0.1:5000/ (Press CTRL+C to quit)\n",
      "127.0.0.1 - - [20/Dec/2022 00:59:19] \"GET / HTTP/1.1\" 200 -\n",
      "127.0.0.1 - - [20/Dec/2022 00:59:19] \"GET /favicon.ico HTTP/1.1\" 404 -\n",
      "127.0.0.1 - - [20/Dec/2022 00:59:44] \"GET /preprocess HTTP/1.1\" 200 -\n",
      "127.0.0.1 - - [20/Dec/2022 01:01:52] \"GET / HTTP/1.1\" 200 -\n"
     ]
    }
   ],
   "source": [
    "from flask import Flask,jsonify\n",
    "\n",
    "app = Flask(__name__)\n",
    "\n",
    "@app.route(\"/\")\n",
    "def home():\n",
    "    return\"Welcome\"\n",
    "@app.route(\"/get_data\")\n",
    "def getData():\n",
    "    jsonData = {\"name\":\"data\"}\n",
    "    return jsonify(jsonData)\n",
    "@app.route(\"/preprocess\")\n",
    "def preprocessData():\n",
    "    jsonData = {\"name\":\"preprocess\"}\n",
    "    return jsonify(jsonData)\n",
    "@app.route(\"/train\")\n",
    "def trainData():\n",
    "    jsonData = {\"name\":\"train\"}\n",
    "    return jsonify(jsonData)\n",
    "@app.route(\"/evaluate\")\n",
    "def evaluateData():\n",
    "    jsonData = {\"name\":\"evaluate\"}\n",
    "    return jsonify(jsonData)\n",
    "@app.route(\"/predict\")\n",
    "def predictData():\n",
    "    jsonData = {\"name\":\"predict\"}\n",
    "    return jsonify(jsonData)\n",
    "\n",
    "app.run()"
   ]
  },
  {
   "cell_type": "code",
   "execution_count": null,
   "id": "bb3688fe",
   "metadata": {},
   "outputs": [],
   "source": [
    "#  write in dataset file source\n"
   ]
  },
  {
   "cell_type": "code",
   "execution_count": null,
   "id": "e24a9d80",
   "metadata": {},
   "outputs": [],
   "source": [
    "rfst.predict([[]])"
   ]
  },
  {
   "cell_type": "code",
   "execution_count": null,
   "id": "e2bd17a2",
   "metadata": {},
   "outputs": [],
   "source": [
    "Active_predict = np.array( [[ ]])\n",
    "Active_predict"
   ]
  },
  {
   "cell_type": "code",
   "execution_count": null,
   "id": "6c21f3bc",
   "metadata": {},
   "outputs": [],
   "source": [
    "#  also write in dataset file source\n",
    "\n",
    "import pickle\n",
    "\n",
    "data = {\"model\": rfst}\n",
    "with open('Predict_model.pkl', 'wb') as file:\n",
    "    pickle.dump(data, file)\n",
    "    \n",
    "with open('Predict_model.pkl', 'rb') as file:\n",
    "    data = pickle.load(file)    \n",
    "    \n",
    "rfst_loaded = data[\"model\"]\n",
    "Card_predict = rfst_loaded.predict(Active_predict)\n",
    "Card_predict"
   ]
  },
  {
   "cell_type": "code",
   "execution_count": null,
   "id": "dc9a0d43",
   "metadata": {},
   "outputs": [],
   "source": [
    "# write in app.py yaa 3aaak in vs code\n",
    "\n",
    "import streamlit\n",
    "from predict_page import show_predict_page\n",
    "show_predict_page()\n"
   ]
  },
  {
   "cell_type": "code",
   "execution_count": null,
   "id": "b4fd3944",
   "metadata": {},
   "outputs": [],
   "source": [
    "# write in predict_page.py ya 3aak in vs code\n",
    "\n",
    "import streamlit as st\n",
    "import pickle  \n",
    "import numpy as np\n",
    "\n",
    "def load_model():\n",
    "    with open('Predict_model.pkl', 'rb') as file:\n",
    "        data = pickle.load(file)  \n",
    "        rfst_loaded=data[\"model\"]  \n",
    "    return rfst_loaded\n",
    "\n",
    "Mode=load_model()\n",
    "\n",
    "\n",
    "def show_predict_page():\n",
    "    st.title(\"\"\"Lungs Cancer Recognition\"\"\")\n",
    "    st.write(\"\"\"We need some information to recognize the data\"\"\")\n",
    "    st.write(\"\"\"So please fill this form\"\"\")\n",
    "\n",
    "    age=st.number_input(\"Age\",step=1.,format=\"%.6f\")\n",
    "    st.write('The current Age is ', age)\n",
    "    gender=st.number_input(\"Gender\",step=1.,format=\"%.6f\")\n",
    "    st.write('Gender is ', gender)\n",
    "    airPollution=st.number_input(\"Air Pollution\",step=1.,format=\"%.6f\")\n",
    "    st.write('The Air Pollution is ', airPollution)\n",
    "    alcoholUse=st.number_input(\"Alcohol use\",step=1.,format=\"%.6f\")\n",
    "    st.write('The Alcohol use is ', alcoholUse)\n",
    "    dustAllergy=st.number_input(\"Dust Allergy\",step=1.,format=\"%.6f\")\n",
    "    st.write('The Dust Allergy is ', dustAllergy)\n",
    "    occuPationalHazards=st.number_input(\"OccuPational Hazards\",step=1.,format=\"%.6f\")\n",
    "    st.write('The OccuPational Hazards is ', occuPationalHazards)\n",
    "    geneticRisk=st.number_input(\"Genetic Risk\",step=1.,format=\"%.6f\")\n",
    "    st.write('The Genetic Risk is ', geneticRisk)\n",
    "    chronicLungDisease=st.number_input(\"chronic Lung Disease\",step=1.,format=\"%.6f\")\n",
    "    st.write('The chronic Lung Disease is ', chronicLungDisease)\n",
    "    balancedDiet=st.number_input(\"Balanced Diet\",step=1.,format=\"%.6f\")\n",
    "    st.write('The Balanced Diet is ', balancedDiet)\n",
    "    obesity=st.number_input(\"Obesity\",step=1.,format=\"%.6f\")\n",
    "    st.write('The Obesity is ', obesity)       \n",
    "    smoking=st.number_input(\"Smoking\",step=1.,format=\"%.6f\")\n",
    "    st.write('The Smoking is ', smoking)\n",
    "    passiveSmoker=st.number_input(\"Passive Smoker\",step=1.,format=\"%.6f\")\n",
    "    st.write('The Passive Smoker is ', passiveSmoker)\n",
    "    chestPain=st.number_input(\"Chest Pain\",step=1.,format=\"%.6f\")\n",
    "    st.write('The Chest Pain is ', chestPain)\n",
    "    coughingOfBlood=st.number_input(\"Coughing of Blood\",step=1.,format=\"%.6f\")\n",
    "    st.write('The Coughing of Blood is ', coughingOfBlood)\n",
    "    fatigue=st.number_input(\"Fatigue\",step=1.,format=\"%.6f\")\n",
    "    st.write('The Fatigue is ', fatigue)\n",
    "    weightLoss=st.number_input(\"Weight Loss\",step=1.,format=\"%.6f\")\n",
    "    st.write('The Weight Loss is ', 'weightLoss)\n",
    "    shortnessOfBreath=st.number_input(\"Shortness of Breath\",step=1.,format=\"%.6f\")\n",
    "    st.write('The Shortness of Breath is ', shortnessOfBreath)\n",
    "    wheezing=st.number_input(\"Wheezing\",step=1.,format=\"%.6f\")\n",
    "    st.write('The Wheezing is ', wheezing)\n",
    "    swallowingDifficulty=st.number_input(\"Swallowing Difficulty\",step=1.,format=\"%.6f\")\n",
    "    st.write('The Swallowing Difficulty is ', swallowingDifficulty)\n",
    "    clubbingOfFingerNails=st.number_input(\"Clubbing of Finger Nails\",step=1.,format=\"%.6f\")\n",
    "    st.write('The Clubbing of Finger Nails is ', clubbingOfFingerNails)\n",
    "    frequentCold=st.number_input(\"Frequent Cold\",step=1.,format=\"%.6f\")\n",
    "    st.write('The Frequent Cold is ', frequentCold)\n",
    "    dryCough=st.number_input(\"Dry Cough\",step=1.,format=\"%.6f\")\n",
    "    st.write('The Dry Cough is ', dryCough)\n",
    "    snoring=st.number_input(\"Snoring\",step=1.,format=\"%.6f\")\n",
    "    st.write('The Snoring is ', snoring)\n",
    "\n",
    "    ok=st.button(\"Predict\")\n",
    "    if ok:\n",
    "        X=[[age,gender,airPollution,alcoholUse,dustAllergy,occuPationalHazards,geneticRisk,chronicLungDisease,balancedDiet,obesity,smoking,passiveSmoker,chestPain,coughingOfBlood,fatigue,weightLoss,shortnessOfBreath,wheezing,swallowingDifficulty,clubbingOfFingerNails,frequentCold,dryCough,snoring]]\n",
    "        # mlp_loaded = data[\"model\"]\n",
    "        Prediction=Mode.predict(X)\n",
    "\n",
    "\n",
    "\n",
    "        st.subheader(f\"Prediction of the disease is {Prediction[0]}\")"
   ]
  },
  {
   "cell_type": "code",
   "execution_count": null,
   "id": "ab1cbf7e",
   "metadata": {},
   "outputs": [],
   "source": []
  },
  {
   "cell_type": "code",
   "execution_count": null,
   "id": "c8c3272c",
   "metadata": {},
   "outputs": [],
   "source": []
  },
  {
   "cell_type": "code",
   "execution_count": null,
   "id": "145e759d",
   "metadata": {},
   "outputs": [],
   "source": []
  },
  {
   "cell_type": "code",
   "execution_count": null,
   "id": "6c5d6b6e",
   "metadata": {},
   "outputs": [],
   "source": []
  },
  {
   "cell_type": "code",
   "execution_count": null,
   "id": "41ba7647",
   "metadata": {},
   "outputs": [],
   "source": []
  },
  {
   "cell_type": "code",
   "execution_count": null,
   "id": "f985437a",
   "metadata": {},
   "outputs": [],
   "source": []
  },
  {
   "cell_type": "code",
   "execution_count": null,
   "id": "0a81827a",
   "metadata": {},
   "outputs": [],
   "source": []
  }
 ],
 "metadata": {
  "kernelspec": {
   "display_name": "Python 3 (ipykernel)",
   "language": "python",
   "name": "python3"
  },
  "language_info": {
   "codemirror_mode": {
    "name": "ipython",
    "version": 3
   },
   "file_extension": ".py",
   "mimetype": "text/x-python",
   "name": "python",
   "nbconvert_exporter": "python",
   "pygments_lexer": "ipython3",
   "version": "3.9.7"
  }
 },
 "nbformat": 4,
 "nbformat_minor": 5
}
